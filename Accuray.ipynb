{
 "cells": [
  {
   "cell_type": "code",
   "execution_count": 2,
   "metadata": {
    "scrolled": true
   },
   "outputs": [],
   "source": [
    "import pandas as pd\n",
    "import numpy as np\n",
    "num = 100\n",
    "df = pd.read_csv(r'dataset_new.csv',header=None, names=['idx', 's1', 's2','score'])\n",
    "candidates = df['s1'].tolist()[:num]\n",
    "references = df['s2'].tolist()[:num]"
   ]
  },
  {
   "cell_type": "code",
   "execution_count": 2,
   "metadata": {},
   "outputs": [],
   "source": [
    "from bert_serving.client import BertClient\n",
    "bc = BertClient()"
   ]
  },
  {
   "cell_type": "code",
   "execution_count": 1,
   "metadata": {},
   "outputs": [],
   "source": [
    "# vectors = bc.encode([candidates[1]])\n",
    "# print(vectors)\n",
    "# print(vectors.shape)\n",
    "# print(vectors[0])\n",
    "# print(vectors[0].shape)"
   ]
  },
  {
   "cell_type": "code",
   "execution_count": 20,
   "metadata": {},
   "outputs": [],
   "source": [
    "def max_min_pooling(sentences):\n",
    "    try:\n",
    "        vectors = bc.encode([sentences])\n",
    "    except:\n",
    "        return 'nan'\n",
    "    max_rest = np.max(vectors[0], axis=0)\n",
    "    min_rest = np.min(vectors[0], axis=0)\n",
    "    rest = np.concatenate([max_rest, min_rest])\n",
    "    return rest"
   ]
  },
  {
   "cell_type": "code",
   "execution_count": 21,
   "metadata": {},
   "outputs": [],
   "source": [
    "def cos_similarity(references, candidates):\n",
    "        if candidates!='nan':\n",
    "            sim = np.dot(candidates, references) / (np.linalg.norm(references) * np.linalg.norm(candidates))\n",
    "        else:\n",
    "            sim = 0.0\n",
    "        return sim"
   ]
  },
  {
   "cell_type": "code",
   "execution_count": 22,
   "metadata": {},
   "outputs": [
    {
     "name": "stderr",
     "output_type": "stream",
     "text": [
      "C:\\Users\\lenovo\\Anaconda3\\lib\\site-packages\\ipykernel_launcher.py:2: FutureWarning: elementwise comparison failed; returning scalar instead, but in the future will perform elementwise comparison\n",
      "  \n"
     ]
    }
   ],
   "source": [
    "ls=[]\n",
    "for i in range(100):\n",
    "    v1=max_min_pooling(candidates[i])\n",
    "    v2=max_min_pooling(references[i])\n",
    "    cos=cos_similarity(v2,v1) \n",
    "    ls.append(cos)"
   ]
  },
  {
   "cell_type": "code",
   "execution_count": 23,
   "metadata": {},
   "outputs": [],
   "source": [
    "df['score']=ls\n",
    "df.to_csv('./score.csv', index=False)"
   ]
  }
 ],
 "metadata": {
  "kernelspec": {
   "display_name": "py35",
   "language": "python",
   "name": "py3.5"
  },
  "language_info": {
   "codemirror_mode": {
    "name": "ipython",
    "version": 3
   },
   "file_extension": ".py",
   "mimetype": "text/x-python",
   "name": "python",
   "nbconvert_exporter": "python",
   "pygments_lexer": "ipython3",
   "version": "3.7.0"
  }
 },
 "nbformat": 4,
 "nbformat_minor": 2
}
